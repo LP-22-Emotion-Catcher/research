{
 "cells": [
  {
   "cell_type": "markdown",
   "id": "23968ab5",
   "metadata": {},
   "source": [
    "## 1. Изучаем датасет слов с размеченной тональностью \n",
    "#### Взято из репозитория https://github.com/dkulagin/kartaslov\n",
    "## 2. Предобрабатываем данные под свои цели\n",
    "## 3. Пишем простую модель классификации эмоциональной тональности текста"
   ]
  },
  {
   "cell_type": "code",
   "execution_count": null,
   "id": "8f764d0f",
   "metadata": {},
   "outputs": [],
   "source": [
    "!pip3 install pandas"
   ]
  },
  {
   "cell_type": "code",
   "execution_count": 1,
   "id": "68f0809e",
   "metadata": {},
   "outputs": [],
   "source": [
    "import pandas as pd"
   ]
  },
  {
   "cell_type": "markdown",
   "id": "fdd62e16",
   "metadata": {},
   "source": [
    "### Подгружаем датасет"
   ]
  },
  {
   "cell_type": "code",
   "execution_count": 13,
   "id": "c1a5f15f",
   "metadata": {
    "scrolled": true
   },
   "outputs": [],
   "source": [
    "words_df = pd.read_csv('kartaslovsent.csv', encoding = 'utf-8', sep=';')"
   ]
  },
  {
   "cell_type": "markdown",
   "id": "5da6e653",
   "metadata": {},
   "source": [
    "### Смотрим размерность датасета и какие есть колонки. \n",
    "#### (результат: к нашим услугам 46127 слов с размеченной эмоциональной тональностью)"
   ]
  },
  {
   "cell_type": "code",
   "execution_count": 4,
   "id": "17f1b0e4",
   "metadata": {
    "scrolled": false
   },
   "outputs": [
    {
     "data": {
      "text/plain": [
       "(46127, 8)"
      ]
     },
     "execution_count": 4,
     "metadata": {},
     "output_type": "execute_result"
    }
   ],
   "source": [
    "words_df.shape"
   ]
  },
  {
   "cell_type": "markdown",
   "id": "d7263e2f",
   "metadata": {},
   "source": [
    "### Cмотрим, как выглядят данные\n",
    "#### (результат: Видим, что помимо PSTV (позитивные) и NGTV (негативные) имеются нейтральные слова размеченные как NEUT"
   ]
  },
  {
   "cell_type": "code",
   "execution_count": 14,
   "id": "0f3cb0e8",
   "metadata": {},
   "outputs": [
    {
     "data": {
      "text/html": [
       "<div>\n",
       "<style scoped>\n",
       "    .dataframe tbody tr th:only-of-type {\n",
       "        vertical-align: middle;\n",
       "    }\n",
       "\n",
       "    .dataframe tbody tr th {\n",
       "        vertical-align: top;\n",
       "    }\n",
       "\n",
       "    .dataframe thead th {\n",
       "        text-align: right;\n",
       "    }\n",
       "</style>\n",
       "<table border=\"1\" class=\"dataframe\">\n",
       "  <thead>\n",
       "    <tr style=\"text-align: right;\">\n",
       "      <th></th>\n",
       "      <th>term</th>\n",
       "      <th>tag</th>\n",
       "      <th>value</th>\n",
       "      <th>pstv</th>\n",
       "      <th>ngtv</th>\n",
       "      <th>neut</th>\n",
       "      <th>dunno</th>\n",
       "      <th>pstvNgtvDisagreementRatio</th>\n",
       "    </tr>\n",
       "  </thead>\n",
       "  <tbody>\n",
       "    <tr>\n",
       "      <th>0</th>\n",
       "      <td>абажур</td>\n",
       "      <td>NEUT</td>\n",
       "      <td>0.08</td>\n",
       "      <td>0.185</td>\n",
       "      <td>0.037</td>\n",
       "      <td>0.580</td>\n",
       "      <td>0.198</td>\n",
       "      <td>0.00</td>\n",
       "    </tr>\n",
       "    <tr>\n",
       "      <th>1</th>\n",
       "      <td>аббатство</td>\n",
       "      <td>NEUT</td>\n",
       "      <td>0.10</td>\n",
       "      <td>0.192</td>\n",
       "      <td>0.038</td>\n",
       "      <td>0.578</td>\n",
       "      <td>0.192</td>\n",
       "      <td>0.00</td>\n",
       "    </tr>\n",
       "    <tr>\n",
       "      <th>2</th>\n",
       "      <td>аббревиатура</td>\n",
       "      <td>NEUT</td>\n",
       "      <td>0.08</td>\n",
       "      <td>0.196</td>\n",
       "      <td>0.000</td>\n",
       "      <td>0.630</td>\n",
       "      <td>0.174</td>\n",
       "      <td>0.00</td>\n",
       "    </tr>\n",
       "    <tr>\n",
       "      <th>3</th>\n",
       "      <td>абзац</td>\n",
       "      <td>NEUT</td>\n",
       "      <td>0.00</td>\n",
       "      <td>0.137</td>\n",
       "      <td>0.000</td>\n",
       "      <td>0.706</td>\n",
       "      <td>0.157</td>\n",
       "      <td>0.00</td>\n",
       "    </tr>\n",
       "    <tr>\n",
       "      <th>4</th>\n",
       "      <td>абиссинец</td>\n",
       "      <td>NEUT</td>\n",
       "      <td>0.28</td>\n",
       "      <td>0.151</td>\n",
       "      <td>0.113</td>\n",
       "      <td>0.245</td>\n",
       "      <td>0.491</td>\n",
       "      <td>0.19</td>\n",
       "    </tr>\n",
       "    <tr>\n",
       "      <th>5</th>\n",
       "      <td>абитуриент</td>\n",
       "      <td>NEUT</td>\n",
       "      <td>0.23</td>\n",
       "      <td>0.235</td>\n",
       "      <td>0.049</td>\n",
       "      <td>0.500</td>\n",
       "      <td>0.216</td>\n",
       "      <td>0.00</td>\n",
       "    </tr>\n",
       "    <tr>\n",
       "      <th>6</th>\n",
       "      <td>абитуриентка</td>\n",
       "      <td>NEUT</td>\n",
       "      <td>0.34</td>\n",
       "      <td>0.294</td>\n",
       "      <td>0.029</td>\n",
       "      <td>0.461</td>\n",
       "      <td>0.216</td>\n",
       "      <td>0.00</td>\n",
       "    </tr>\n",
       "    <tr>\n",
       "      <th>7</th>\n",
       "      <td>абонемент</td>\n",
       "      <td>NEUT</td>\n",
       "      <td>0.18</td>\n",
       "      <td>0.232</td>\n",
       "      <td>0.056</td>\n",
       "      <td>0.560</td>\n",
       "      <td>0.152</td>\n",
       "      <td>0.00</td>\n",
       "    </tr>\n",
       "    <tr>\n",
       "      <th>8</th>\n",
       "      <td>абонементный</td>\n",
       "      <td>NEUT</td>\n",
       "      <td>0.19</td>\n",
       "      <td>0.210</td>\n",
       "      <td>0.070</td>\n",
       "      <td>0.500</td>\n",
       "      <td>0.220</td>\n",
       "      <td>0.00</td>\n",
       "    </tr>\n",
       "    <tr>\n",
       "      <th>9</th>\n",
       "      <td>абонент</td>\n",
       "      <td>NEUT</td>\n",
       "      <td>0.00</td>\n",
       "      <td>0.075</td>\n",
       "      <td>0.075</td>\n",
       "      <td>0.675</td>\n",
       "      <td>0.175</td>\n",
       "      <td>0.00</td>\n",
       "    </tr>\n",
       "    <tr>\n",
       "      <th>10</th>\n",
       "      <td>абонентный</td>\n",
       "      <td>NEUT</td>\n",
       "      <td>0.00</td>\n",
       "      <td>0.073</td>\n",
       "      <td>0.000</td>\n",
       "      <td>0.610</td>\n",
       "      <td>0.317</td>\n",
       "      <td>0.00</td>\n",
       "    </tr>\n",
       "    <tr>\n",
       "      <th>11</th>\n",
       "      <td>абонентский</td>\n",
       "      <td>NEUT</td>\n",
       "      <td>0.00</td>\n",
       "      <td>0.071</td>\n",
       "      <td>0.000</td>\n",
       "      <td>0.822</td>\n",
       "      <td>0.107</td>\n",
       "      <td>0.00</td>\n",
       "    </tr>\n",
       "    <tr>\n",
       "      <th>12</th>\n",
       "      <td>абордаж</td>\n",
       "      <td>NGTV</td>\n",
       "      <td>-0.45</td>\n",
       "      <td>0.070</td>\n",
       "      <td>0.330</td>\n",
       "      <td>0.380</td>\n",
       "      <td>0.220</td>\n",
       "      <td>0.00</td>\n",
       "    </tr>\n",
       "    <tr>\n",
       "      <th>13</th>\n",
       "      <td>абордажный</td>\n",
       "      <td>NEUT</td>\n",
       "      <td>-0.19</td>\n",
       "      <td>0.137</td>\n",
       "      <td>0.171</td>\n",
       "      <td>0.384</td>\n",
       "      <td>0.308</td>\n",
       "      <td>0.11</td>\n",
       "    </tr>\n",
       "    <tr>\n",
       "      <th>14</th>\n",
       "      <td>абориген</td>\n",
       "      <td>NEUT</td>\n",
       "      <td>-0.02</td>\n",
       "      <td>0.063</td>\n",
       "      <td>0.167</td>\n",
       "      <td>0.624</td>\n",
       "      <td>0.146</td>\n",
       "      <td>0.00</td>\n",
       "    </tr>\n",
       "    <tr>\n",
       "      <th>15</th>\n",
       "      <td>аборигенка</td>\n",
       "      <td>NEUT</td>\n",
       "      <td>0.02</td>\n",
       "      <td>0.144</td>\n",
       "      <td>0.106</td>\n",
       "      <td>0.538</td>\n",
       "      <td>0.212</td>\n",
       "      <td>0.00</td>\n",
       "    </tr>\n",
       "    <tr>\n",
       "      <th>16</th>\n",
       "      <td>аборигенный</td>\n",
       "      <td>NEUT</td>\n",
       "      <td>-0.08</td>\n",
       "      <td>0.079</td>\n",
       "      <td>0.167</td>\n",
       "      <td>0.526</td>\n",
       "      <td>0.228</td>\n",
       "      <td>0.00</td>\n",
       "    </tr>\n",
       "    <tr>\n",
       "      <th>17</th>\n",
       "      <td>аборт</td>\n",
       "      <td>NGTV</td>\n",
       "      <td>-0.68</td>\n",
       "      <td>0.067</td>\n",
       "      <td>0.515</td>\n",
       "      <td>0.314</td>\n",
       "      <td>0.104</td>\n",
       "      <td>0.00</td>\n",
       "    </tr>\n",
       "    <tr>\n",
       "      <th>18</th>\n",
       "      <td>абразив</td>\n",
       "      <td>NEUT</td>\n",
       "      <td>0.00</td>\n",
       "      <td>0.067</td>\n",
       "      <td>0.067</td>\n",
       "      <td>0.466</td>\n",
       "      <td>0.400</td>\n",
       "      <td>0.00</td>\n",
       "    </tr>\n",
       "    <tr>\n",
       "      <th>19</th>\n",
       "      <td>абракадабра</td>\n",
       "      <td>NEUT</td>\n",
       "      <td>-0.17</td>\n",
       "      <td>0.194</td>\n",
       "      <td>0.208</td>\n",
       "      <td>0.480</td>\n",
       "      <td>0.118</td>\n",
       "      <td>0.17</td>\n",
       "    </tr>\n",
       "  </tbody>\n",
       "</table>\n",
       "</div>"
      ],
      "text/plain": [
       "            term   tag  value   pstv   ngtv   neut  dunno  \\\n",
       "0         абажур  NEUT   0.08  0.185  0.037  0.580  0.198   \n",
       "1      аббатство  NEUT   0.10  0.192  0.038  0.578  0.192   \n",
       "2   аббревиатура  NEUT   0.08  0.196  0.000  0.630  0.174   \n",
       "3          абзац  NEUT   0.00  0.137  0.000  0.706  0.157   \n",
       "4      абиссинец  NEUT   0.28  0.151  0.113  0.245  0.491   \n",
       "5     абитуриент  NEUT   0.23  0.235  0.049  0.500  0.216   \n",
       "6   абитуриентка  NEUT   0.34  0.294  0.029  0.461  0.216   \n",
       "7      абонемент  NEUT   0.18  0.232  0.056  0.560  0.152   \n",
       "8   абонементный  NEUT   0.19  0.210  0.070  0.500  0.220   \n",
       "9        абонент  NEUT   0.00  0.075  0.075  0.675  0.175   \n",
       "10    абонентный  NEUT   0.00  0.073  0.000  0.610  0.317   \n",
       "11   абонентский  NEUT   0.00  0.071  0.000  0.822  0.107   \n",
       "12       абордаж  NGTV  -0.45  0.070  0.330  0.380  0.220   \n",
       "13    абордажный  NEUT  -0.19  0.137  0.171  0.384  0.308   \n",
       "14      абориген  NEUT  -0.02  0.063  0.167  0.624  0.146   \n",
       "15    аборигенка  NEUT   0.02  0.144  0.106  0.538  0.212   \n",
       "16   аборигенный  NEUT  -0.08  0.079  0.167  0.526  0.228   \n",
       "17         аборт  NGTV  -0.68  0.067  0.515  0.314  0.104   \n",
       "18       абразив  NEUT   0.00  0.067  0.067  0.466  0.400   \n",
       "19   абракадабра  NEUT  -0.17  0.194  0.208  0.480  0.118   \n",
       "\n",
       "    pstvNgtvDisagreementRatio  \n",
       "0                        0.00  \n",
       "1                        0.00  \n",
       "2                        0.00  \n",
       "3                        0.00  \n",
       "4                        0.19  \n",
       "5                        0.00  \n",
       "6                        0.00  \n",
       "7                        0.00  \n",
       "8                        0.00  \n",
       "9                        0.00  \n",
       "10                       0.00  \n",
       "11                       0.00  \n",
       "12                       0.00  \n",
       "13                       0.11  \n",
       "14                       0.00  \n",
       "15                       0.00  \n",
       "16                       0.00  \n",
       "17                       0.00  \n",
       "18                       0.00  \n",
       "19                       0.17  "
      ]
     },
     "execution_count": 14,
     "metadata": {},
     "output_type": "execute_result"
    }
   ],
   "source": [
    "words_df.head(20)"
   ]
  },
  {
   "cell_type": "markdown",
   "id": "878712de",
   "metadata": {},
   "source": [
    "### Выбираем из датасета только слова позитивно и негативно размеченные. \n",
    "### Очищаем данные от ненужного, то есть оставляем колонки term, tag, pstv, ngtv, neut. Смотрим размерность"
   ]
  },
  {
   "cell_type": "code",
   "execution_count": 6,
   "id": "09b698cb",
   "metadata": {},
   "outputs": [
    {
     "name": "stdout",
     "output_type": "stream",
     "text": [
      "Размерность датасета: 46127\n",
      "Слов негативно окрашенных в датасете:11863\n",
      "Слов позитивно окрашенных в датасете:6215\n",
      "Слов нейтрально окрашенных в датасете:28049\n"
     ]
    }
   ],
   "source": [
    "words_df = words_df[['term', 'tag', 'pstv', 'ngtv', 'neut']]\n",
    "\n",
    "negative_words = words_df[words_df['tag'] == 'NGTV']\n",
    "negative_words = negative_words.sort_values(by='ngtv', ascending = False)\n",
    "positive_words = words_df[words_df['tag'] == 'PSTV']\n",
    "positive_words = positive_words.sort_values(by='pstv', ascending = False)\n",
    "neutral_words = words_df[words_df['tag'] == 'NEUT']\n",
    "neutral_words = neutral_words.sort_values(by='neut', ascending = False)\n",
    "\n",
    "print(f'Размерность датасета: {words_df.shape[0]}')\n",
    "print(f'Слов негативно окрашенных в датасете:{negative_words.shape[0]}')\n",
    "print(f'Слов позитивно окрашенных в датасете:{positive_words.shape[0]}')\n",
    "print(f'Слов нейтрально окрашенных в датасете:{neutral_words.shape[0]}')"
   ]
  },
  {
   "cell_type": "markdown",
   "id": "c3d2769d",
   "metadata": {},
   "source": [
    "### Пишем простой распознаватель эмоциональной тональности текста"
   ]
  },
  {
   "cell_type": "code",
   "execution_count": 10,
   "id": "477605ac",
   "metadata": {},
   "outputs": [],
   "source": [
    "def emotion_recognizer(text):\n",
    "    '''Принимает текст, оценивает его эмоциональную окраску.\n",
    "    Возвращает positive/negative/neutral'''\n",
    "    \n",
    "    negative_color, positive_color, neutral_color = 0, 0, 0\n",
    "    text = text.lower()\n",
    "    text = text.strip(',').split(' ')\n",
    "    for word in text:\n",
    "        if len(word) < 3: #чтобы исключить союзы и предлоги\n",
    "            continue\n",
    "        for check_word in list(negative_words['term']):\n",
    "            if word in check_word: \n",
    "                negative_color +=1\n",
    "                continue\n",
    "        for check_word in list(positive_words['term']):\n",
    "            if word in check_word: \n",
    "                positive_color +=1\n",
    "                continue\n",
    "        for check_word in list(neutral_words['term']):\n",
    "            if word in check_word: \n",
    "                neutral_color +=1\n",
    "                continue\n",
    "                \n",
    "    if negative_color > positive_color and negative_color > neutral_color:\n",
    "        return 'negative'\n",
    "    elif positive_color > negative_color and positive_color > neutral_color:\n",
    "        return 'positive'\n",
    "    elif neutral_color > negative_color and neutral_color > positive_color:\n",
    "        return 'neutral'\n",
    "    "
   ]
  },
  {
   "cell_type": "markdown",
   "id": "f5c2c0cb",
   "metadata": {},
   "source": [
    "### Тестируем"
   ]
  },
  {
   "cell_type": "code",
   "execution_count": 8,
   "id": "0f2386b0",
   "metadata": {},
   "outputs": [],
   "source": [
    "test_comments = [\n",
    "    {'user_name':'Gvido',\n",
    "    'comment':'Помогите Автономные тесты. Интеграционные, функциональные, unit-тесты Все давно уже знают, что такое MVC и согласны с тем, что это хорошо. Но откуда тогда берутся эти проекты с километровым кодом в контроллерах, да ещё и напрямую изменяющим БД? Почему это плохо и как должно быть, а также о главной боли Django — в этом выпуске.Посоветуйте курс по пайтону, реальный - не поверхностный. Реально хочу погрузиться в программирование. В этом видео мы реализуем Телеграм бота для учёта личных расходов с бюджетом, категориями расходов и базовой статистикой. Использовать будем Python и Aiogram с Asyncio, в качестве базы данных легковесный движок SQLite, а результат работы упакуем в Docker контейнер для быстрого разворачивания на любом сервере'},\n",
    "    {'user_name':'luiza mariam_',\n",
    "    'comment':'я с прошлой субботы жду информацию от Сберлогистики, с понедельника жду информацию от Вас и от официального представителя Сбербанка. Я уже подсказала приблизительный план поиска посылки. Передайте, пожалуйста, его сотрудникам, ответственным за подразделение Сберлогистики. Официально предлагаю Вам мою помощь, могу стать волонтёром на пару дней и сама поискать свою посылку на складе.'},\n",
    "    {'user_name':'luiza mariam_',\n",
    "    'comment':'я понимаю, что других новостей нет. Но Вы не новостная программа, чтобы сообщать новости. Вы должны закрепить ответственного сотрудника за номером обращения и искать, искать посылку. Отправить заявку на первый склад, какой машиной и когда была отправлена посылка, пришла ли данная машина на второй склад, если пришла, то выяснить почему не были выгружены посылки, если были выгружены, то найти сотрудника, кто их принимал. Искать посылку на втором складе, а не ждать, когда сама посылка прыгнет какому-нибудь сотруднику в руки. Вещи стоят денег. Время стоит денег. А вы уже украли и мои вещи, и мои деньги, а теперь и время, которое я трачу на все эти разбирательства .'},\n",
    "    {'user_name':'luiza mariam_',\n",
    "    'comment':'прошу сказать мне, где находится моя посылка, которая уже 10 дней в Москве, хотя должна была быть в другом городе. Ответ ждите, мы ответим позже, у нас возможные задержки и прочие отписки это не ответ .'},\n",
    "    {'user_name':'Иван Симон',\n",
    "    'comment':'Люди жалуются на категории \"пятёрочка\", а у меня за 4 года пользования картой ни разу супермаркетов не было, а в основном категории которыми никогда не пользовался'},\n",
    "    {'user_name':'Анастасия Ильина',\n",
    "    'comment':'Не думала, что я вам это скажу, но я рада, что мои знакомые подключили в приложении сбп . Здесь меня держит только зарплата . Пользуюсь я другим банком . К сожалению , вы единственный банк , где сбп не подключена автоматически и мне приходится у людей спрашивать номер карты , так как в моем другом банке можно переводить на другие банки без комиссии даже по номеру карты . Единственный такой банк из всех . Поэтому я все время радуюсь , что можно переводить кому-то по номеру телефона в Сбербанк из другого банка без комиссии , когда подключена данная функция .'},\n",
    "    {'user_name':'Максим Носов',\n",
    "    'comment':'Банк мне понравился, стал клиентом после акции карта с бесплатным обслуживанием навсегда и получил уже хорошие бонусы для себя , даже сегодня прислали 500 р , там у них ним много програм каких-то , в этом надо разбираться , всем удачи'}\n",
    "]"
   ]
  },
  {
   "cell_type": "code",
   "execution_count": 11,
   "id": "3576c15b",
   "metadata": {
    "scrolled": true
   },
   "outputs": [
    {
     "name": "stdout",
     "output_type": "stream",
     "text": [
      "CPU times: user 8 µs, sys: 0 ns, total: 8 µs\n",
      "Wall time: 15.7 µs\n",
      "===============\n",
      "Gvido\n",
      "Помогите Автономные тесты. Интеграционные, функциональные, unit-тесты Все давно уже знают, что такое MVC и согласны с тем, что это хорошо. Но откуда тогда берутся эти проекты с километровым кодом в контроллерах, да ещё и напрямую изменяющим БД? Почему это плохо и как должно быть, а также о главной боли Django — в этом выпуске.Посоветуйте курс по пайтону, реальный - не поверхностный. Реально хочу погрузиться в программирование. В этом видео мы реализуем Телеграм бота для учёта личных расходов с бюджетом, категориями расходов и базовой статистикой. Использовать будем Python и Aiogram с Asyncio, в качестве базы данных легковесный движок SQLite, а результат работы упакуем в Docker контейнер для быстрого разворачивания на любом сервере\n",
      " Оценён, как: neutral\n",
      "===============\n",
      "luiza mariam_\n",
      "я с прошлой субботы жду информацию от Сберлогистики, с понедельника жду информацию от Вас и от официального представителя Сбербанка. Я уже подсказала приблизительный план поиска посылки. Передайте, пожалуйста, его сотрудникам, ответственным за подразделение Сберлогистики. Официально предлагаю Вам мою помощь, могу стать волонтёром на пару дней и сама поискать свою посылку на складе.\n",
      " Оценён, как: neutral\n",
      "===============\n",
      "luiza mariam_\n",
      "я понимаю, что других новостей нет. Но Вы не новостная программа, чтобы сообщать новости. Вы должны закрепить ответственного сотрудника за номером обращения и искать, искать посылку. Отправить заявку на первый склад, какой машиной и когда была отправлена посылка, пришла ли данная машина на второй склад, если пришла, то выяснить почему не были выгружены посылки, если были выгружены, то найти сотрудника, кто их принимал. Искать посылку на втором складе, а не ждать, когда сама посылка прыгнет какому-нибудь сотруднику в руки. Вещи стоят денег. Время стоит денег. А вы уже украли и мои вещи, и мои деньги, а теперь и время, которое я трачу на все эти разбирательства .\n",
      " Оценён, как: neutral\n",
      "===============\n",
      "luiza mariam_\n",
      "прошу сказать мне, где находится моя посылка, которая уже 10 дней в Москве, хотя должна была быть в другом городе. Ответ ждите, мы ответим позже, у нас возможные задержки и прочие отписки это не ответ .\n",
      " Оценён, как: neutral\n",
      "===============\n",
      "Иван Симон\n",
      "Люди жалуются на категории \"пятёрочка\", а у меня за 4 года пользования картой ни разу супермаркетов не было, а в основном категории которыми никогда не пользовался\n",
      " Оценён, как: neutral\n",
      "===============\n",
      "Анастасия Ильина\n",
      "Не думала, что я вам это скажу, но я рада, что мои знакомые подключили в приложении сбп . Здесь меня держит только зарплата . Пользуюсь я другим банком . К сожалению , вы единственный банк , где сбп не подключена автоматически и мне приходится у людей спрашивать номер карты , так как в моем другом банке можно переводить на другие банки без комиссии даже по номеру карты . Единственный такой банк из всех . Поэтому я все время радуюсь , что можно переводить кому-то по номеру телефона в Сбербанк из другого банка без комиссии , когда подключена данная функция .\n",
      " Оценён, как: negative\n",
      "===============\n",
      "Максим Носов\n",
      "Банк мне понравился, стал клиентом после акции карта с бесплатным обслуживанием навсегда и получил уже хорошие бонусы для себя , даже сегодня прислали 500 р , там у них ним много програм каких-то , в этом надо разбираться , всем удачи\n",
      " Оценён, как: neutral\n"
     ]
    }
   ],
   "source": [
    "%time\n",
    "for comment in test_comments:\n",
    "    emotion_color = emotion_recognizer(comment['comment'])\n",
    "    print('='*15)\n",
    "    print('{}\\n{}\\n Оценён, как: {}'.format(comment['user_name'], comment['comment'], emotion_color))"
   ]
  },
  {
   "cell_type": "markdown",
   "id": "714f9ab4",
   "metadata": {},
   "source": [
    "##### Само распознавание стреляет невпопад. Дальше надо выбрать метод более точного распознавания и орабатывать на комментариях"
   ]
  },
  {
   "cell_type": "markdown",
   "id": "588aca1f",
   "metadata": {},
   "source": [
    "#### написать обработчик входящего текста, чтобы убирал ненужные предлоги, союзы, отрезал окончания, суффиксы, приставки (когда надо). Учитывал слово не и менял бы окрас слова на противоположный"
   ]
  },
  {
   "cell_type": "code",
   "execution_count": 1,
   "id": "966ed6e0",
   "metadata": {},
   "outputs": [],
   "source": [
    "import nltk"
   ]
  },
  {
   "cell_type": "code",
   "execution_count": 2,
   "id": "b27189f6",
   "metadata": {},
   "outputs": [
    {
     "name": "stderr",
     "output_type": "stream",
     "text": [
      "[nltk_data] Downloading package stopwords to /home/dima/nltk_data...\n",
      "[nltk_data]   Package stopwords is already up-to-date!\n"
     ]
    },
    {
     "data": {
      "text/plain": [
       "True"
      ]
     },
     "execution_count": 2,
     "metadata": {},
     "output_type": "execute_result"
    }
   ],
   "source": [
    "nltk.download(\"stopwords\")"
   ]
  },
  {
   "cell_type": "code",
   "execution_count": 3,
   "id": "040ab301",
   "metadata": {},
   "outputs": [],
   "source": [
    "from nltk.corpus import stopwords"
   ]
  },
  {
   "cell_type": "code",
   "execution_count": 9,
   "id": "036eb147",
   "metadata": {},
   "outputs": [],
   "source": [
    "from string import punctuation"
   ]
  },
  {
   "cell_type": "code",
   "execution_count": 6,
   "id": "0669a67c",
   "metadata": {
    "scrolled": true
   },
   "outputs": [
    {
     "name": "stdout",
     "output_type": "stream",
     "text": [
      "['и', 'в', 'во', 'не', 'что', 'он', 'на', 'я', 'с', 'со', 'как', 'а', 'то', 'все', 'она', 'так', 'его', 'но', 'да', 'ты', 'к', 'у', 'же', 'вы', 'за', 'бы', 'по', 'только', 'ее', 'мне', 'было', 'вот', 'от', 'меня', 'еще', 'нет', 'о', 'из', 'ему', 'теперь', 'когда', 'даже', 'ну', 'вдруг', 'ли', 'если', 'уже', 'или', 'ни', 'быть', 'был', 'него', 'до', 'вас', 'нибудь', 'опять', 'уж', 'вам', 'ведь', 'там', 'потом', 'себя', 'ничего', 'ей', 'может', 'они', 'тут', 'где', 'есть', 'надо', 'ней', 'для', 'мы', 'тебя', 'их', 'чем', 'была', 'сам', 'чтоб', 'без', 'будто', 'чего', 'раз', 'тоже', 'себе', 'под', 'будет', 'ж', 'тогда', 'кто', 'этот', 'того', 'потому', 'этого', 'какой', 'совсем', 'ним', 'здесь', 'этом', 'один', 'почти', 'мой', 'тем', 'чтобы', 'нее', 'сейчас', 'были', 'куда', 'зачем', 'всех', 'никогда', 'можно', 'при', 'наконец', 'два', 'об', 'другой', 'хоть', 'после', 'над', 'больше', 'тот', 'через', 'эти', 'нас', 'про', 'всего', 'них', 'какая', 'много', 'разве', 'три', 'эту', 'моя', 'впрочем', 'хорошо', 'свою', 'этой', 'перед', 'иногда', 'лучше', 'чуть', 'том', 'нельзя', 'такой', 'им', 'более', 'всегда', 'конечно', 'всю', 'между']\n"
     ]
    }
   ],
   "source": [
    "print(stopwords.words('russian'))"
   ]
  },
  {
   "cell_type": "code",
   "execution_count": 8,
   "id": "7cac5786",
   "metadata": {
    "scrolled": false
   },
   "outputs": [
    {
     "name": "stdout",
     "output_type": "stream",
     "text": [
      "The following packages are already present in the pyproject.toml and will be skipped:\r\n",
      "\r\n",
      "  • \u001b[36mpymystem3\u001b[0m\r\n",
      "\r\n",
      "If you want to update it to the latest compatible version, you can use `poetry update package`.\r\n",
      "If you prefer to upgrade it to the latest available version, you can use `poetry add package@latest`.\r\n",
      "\r\n",
      "Nothing to add.\r\n"
     ]
    }
   ],
   "source": [
    "!poetry add pymystem3"
   ]
  },
  {
   "cell_type": "code",
   "execution_count": 11,
   "id": "747c7e27",
   "metadata": {},
   "outputs": [
    {
     "ename": "ModuleNotFoundError",
     "evalue": "No module named 'pymystem3'",
     "output_type": "error",
     "traceback": [
      "\u001b[0;31m---------------------------------------------------------------------------\u001b[0m",
      "\u001b[0;31mModuleNotFoundError\u001b[0m                       Traceback (most recent call last)",
      "\u001b[0;32m/tmp/ipykernel_4515/1664149520.py\u001b[0m in \u001b[0;36m<module>\u001b[0;34m\u001b[0m\n\u001b[0;32m----> 1\u001b[0;31m \u001b[0;32mfrom\u001b[0m \u001b[0mpymystem3\u001b[0m \u001b[0;32mimport\u001b[0m \u001b[0mMystem\u001b[0m\u001b[0;34m\u001b[0m\u001b[0;34m\u001b[0m\u001b[0m\n\u001b[0m",
      "\u001b[0;31mModuleNotFoundError\u001b[0m: No module named 'pymystem3'"
     ]
    }
   ],
   "source": [
    "from pymystem3 import Mystem"
   ]
  },
  {
   "cell_type": "code",
   "execution_count": 12,
   "id": "81f9c12c",
   "metadata": {},
   "outputs": [],
   "source": [
    "text = '''Люди жалуются на категории \"пятёрочка\", а у меня за 4 года пользования картой ни разу супермаркетов не было, а в основном категории которыми никогда не пользовался'''"
   ]
  },
  {
   "cell_type": "code",
   "execution_count": null,
   "id": "1c12ebaf",
   "metadata": {},
   "outputs": [],
   "source": [
    "from pymystem3 import Mystem\n",
    "text = \"Красивая мама красиво мыла раму\"\n",
    "m = Mystem()\n",
    "lemmas = m.lemmatize(text)\n",
    "print(''.join(lemmas))\n",
    "\n",
    "#красивый мама красиво мыть рама\n",
    "\n",
    "#Getting grammatical information and lemmas.\n",
    "\n",
    "import json\n",
    "from pymystem3 import Mystem\n",
    "\n",
    "text = \"Красивая мама красиво мыла раму\"\n",
    "m = Mystem()\n",
    "lemmas = m.lemmatize(text)\n",
    "\n",
    "print \"lemmas:\", ''.join(lemmas)\n",
    "print \"full info:\", json.dumps(m.analyze(text), ensure_ascii=False, encoding='utf8')\n",
    "\n",
    "#lemmas: красивый мама красиво мыть рама\n",
    "\n",
    "#full info: [{\"text\": \"Красивая\", \"analysis\": [{\"lex\": \"красивый\", \"gr\": \"A=им,ед,полн,жен\"}]}, {\"text\": \" \"}, {\"text\": \"мама\", \"analysis\": [{\"lex\": \"мама\", \"gr\": \"S,жен,од=им,ед\"}]}, {\"text\": \" \"}, {\"text\": \"красиво\", \"analysis\": [{\"lex\": \"красиво\", \"gr\": \"ADV=\"}]}, {\"text\": \" \"}, {\"text\": \"мыла\", \"analysis\": [{\"lex\": \"мыть\", \"gr\": \"V,несов,пе=прош,ед,изъяв,жен\"}]}, {\"text\": \" \"}, {\"text\": \"раму\", \"analysis\": [{\"lex\": \"рама\", \"gr\": \"S,жен,неод=вин,ед\"}]}, {\"text\": \"\\n\"}]\n",
    "#берём наречия и прилагательные"
   ]
  },
  {
   "cell_type": "code",
   "execution_count": 33,
   "id": "0c89a3f2",
   "metadata": {},
   "outputs": [],
   "source": [
    "def preprocessor(text):\n",
    "    text = text.lower()\n",
    "    text = text.strip(',').split(' ')\n",
    "    text = list(set(text) - stop_words)\n",
    "    for word in text:\n",
    "        print(word)\n",
    "    #return text"
   ]
  },
  {
   "cell_type": "code",
   "execution_count": 13,
   "id": "bad3df03",
   "metadata": {},
   "outputs": [],
   "source": [
    "#stop_words = '''без, безо, близ,в, во, вместо, вне для, до, за, из, изо, из-за, из за, из-под, к, ко, кроме, между, на, над, о, об, обо, от, ото, перед, передо, пo, под, подо, при, про, ради, с, со, сквозь, среди, у, через, чрез, и, а, но, да, если, что, когд, потому что, так как, как будто, вследствие того что, с тех пор как, в то время как, для того чтобы, ни – ни, то – то, не то – не то, то ли – то ли, а, но, зато, да, когда, пока, едва, лишь, лишь только, как только, потому что, оттого что, так как, ибо, так что, что, будто, чтобы, как'''"
   ]
  },
  {
   "cell_type": "code",
   "execution_count": 14,
   "id": "072d22ab",
   "metadata": {},
   "outputs": [],
   "source": [
    "#stop_words = set(stop_words.split(', '))"
   ]
  }
 ],
 "metadata": {
  "kernelspec": {
   "display_name": "Python 3 (ipykernel)",
   "language": "python",
   "name": "python3"
  },
  "language_info": {
   "codemirror_mode": {
    "name": "ipython",
    "version": 3
   },
   "file_extension": ".py",
   "mimetype": "text/x-python",
   "name": "python",
   "nbconvert_exporter": "python",
   "pygments_lexer": "ipython3",
   "version": "3.9.7"
  }
 },
 "nbformat": 4,
 "nbformat_minor": 5
}
